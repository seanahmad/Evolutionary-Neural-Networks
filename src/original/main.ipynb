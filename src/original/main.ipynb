{
 "cells": [
  {
   "cell_type": "code",
   "execution_count": 1,
   "outputs": [
    {
     "name": "stderr",
     "output_type": "stream",
     "text": [
      "Using TensorFlow backend.\n",
      "C:\\Users\\theon\\anaconda3\\envs\\fe690\\lib\\site-packages\\tensorflow\\python\\framework\\dtypes.py:516: FutureWarning: Passing (type, 1) or '1type' as a synonym of type is deprecated; in a future version of numpy, it will be understood as (type, (1,)) / '(1,)type'.\n",
      "  _np_qint8 = np.dtype([(\"qint8\", np.int8, 1)])\n",
      "C:\\Users\\theon\\anaconda3\\envs\\fe690\\lib\\site-packages\\tensorflow\\python\\framework\\dtypes.py:517: FutureWarning: Passing (type, 1) or '1type' as a synonym of type is deprecated; in a future version of numpy, it will be understood as (type, (1,)) / '(1,)type'.\n",
      "  _np_quint8 = np.dtype([(\"quint8\", np.uint8, 1)])\n",
      "C:\\Users\\theon\\anaconda3\\envs\\fe690\\lib\\site-packages\\tensorflow\\python\\framework\\dtypes.py:518: FutureWarning: Passing (type, 1) or '1type' as a synonym of type is deprecated; in a future version of numpy, it will be understood as (type, (1,)) / '(1,)type'.\n",
      "  _np_qint16 = np.dtype([(\"qint16\", np.int16, 1)])\n",
      "C:\\Users\\theon\\anaconda3\\envs\\fe690\\lib\\site-packages\\tensorflow\\python\\framework\\dtypes.py:519: FutureWarning: Passing (type, 1) or '1type' as a synonym of type is deprecated; in a future version of numpy, it will be understood as (type, (1,)) / '(1,)type'.\n",
      "  _np_quint16 = np.dtype([(\"quint16\", np.uint16, 1)])\n",
      "C:\\Users\\theon\\anaconda3\\envs\\fe690\\lib\\site-packages\\tensorflow\\python\\framework\\dtypes.py:520: FutureWarning: Passing (type, 1) or '1type' as a synonym of type is deprecated; in a future version of numpy, it will be understood as (type, (1,)) / '(1,)type'.\n",
      "  _np_qint32 = np.dtype([(\"qint32\", np.int32, 1)])\n",
      "C:\\Users\\theon\\anaconda3\\envs\\fe690\\lib\\site-packages\\tensorflow\\python\\framework\\dtypes.py:525: FutureWarning: Passing (type, 1) or '1type' as a synonym of type is deprecated; in a future version of numpy, it will be understood as (type, (1,)) / '(1,)type'.\n",
      "  np_resource = np.dtype([(\"resource\", np.ubyte, 1)])\n",
      "C:\\Users\\theon\\anaconda3\\envs\\fe690\\lib\\site-packages\\tensorboard\\compat\\tensorflow_stub\\dtypes.py:541: FutureWarning: Passing (type, 1) or '1type' as a synonym of type is deprecated; in a future version of numpy, it will be understood as (type, (1,)) / '(1,)type'.\n",
      "  _np_qint8 = np.dtype([(\"qint8\", np.int8, 1)])\n",
      "C:\\Users\\theon\\anaconda3\\envs\\fe690\\lib\\site-packages\\tensorboard\\compat\\tensorflow_stub\\dtypes.py:542: FutureWarning: Passing (type, 1) or '1type' as a synonym of type is deprecated; in a future version of numpy, it will be understood as (type, (1,)) / '(1,)type'.\n",
      "  _np_quint8 = np.dtype([(\"quint8\", np.uint8, 1)])\n",
      "C:\\Users\\theon\\anaconda3\\envs\\fe690\\lib\\site-packages\\tensorboard\\compat\\tensorflow_stub\\dtypes.py:543: FutureWarning: Passing (type, 1) or '1type' as a synonym of type is deprecated; in a future version of numpy, it will be understood as (type, (1,)) / '(1,)type'.\n",
      "  _np_qint16 = np.dtype([(\"qint16\", np.int16, 1)])\n",
      "C:\\Users\\theon\\anaconda3\\envs\\fe690\\lib\\site-packages\\tensorboard\\compat\\tensorflow_stub\\dtypes.py:544: FutureWarning: Passing (type, 1) or '1type' as a synonym of type is deprecated; in a future version of numpy, it will be understood as (type, (1,)) / '(1,)type'.\n",
      "  _np_quint16 = np.dtype([(\"quint16\", np.uint16, 1)])\n",
      "C:\\Users\\theon\\anaconda3\\envs\\fe690\\lib\\site-packages\\tensorboard\\compat\\tensorflow_stub\\dtypes.py:545: FutureWarning: Passing (type, 1) or '1type' as a synonym of type is deprecated; in a future version of numpy, it will be understood as (type, (1,)) / '(1,)type'.\n",
      "  _np_qint32 = np.dtype([(\"qint32\", np.int32, 1)])\n",
      "C:\\Users\\theon\\anaconda3\\envs\\fe690\\lib\\site-packages\\tensorboard\\compat\\tensorflow_stub\\dtypes.py:550: FutureWarning: Passing (type, 1) or '1type' as a synonym of type is deprecated; in a future version of numpy, it will be understood as (type, (1,)) / '(1,)type'.\n",
      "  np_resource = np.dtype([(\"resource\", np.ubyte, 1)])\n"
     ]
    }
   ],
   "source": [
    "import random\n",
    "import numpy as np\n",
    "import pandas as pd\n",
    "from keras.layers import Dense\n",
    "from keras.models import Sequential\n",
    "from sklearn.metrics import accuracy_score\n",
    "from sklearn.model_selection import train_test_split\n",
    "import numpy as np\n",
    "import pandas_datareader.data as web\n",
    "import matplotlib.pyplot as plt"
   ],
   "metadata": {
    "collapsed": false,
    "pycharm": {
     "name": "#%%\n"
    }
   }
  },
  {
   "cell_type": "code",
   "execution_count": 2,
   "outputs": [],
   "source": [
    "class ENN(Sequential):\n",
    "    def __init__(self, wts_sub=None):\n",
    "        super().__init__()\n",
    "        if wts_sub is None:\n",
    "            layer1 = Dense(1, input_shape=(1,), activation='sigmoid')\n",
    "            layer2 = Dense(3, activation='sigmoid')\n",
    "            layer3 = Dense(3, activation='sigmoid')\n",
    "            layer4 = Dense(3, activation='sigmoid')\n",
    "            layer5 = Dense(1, activation='sigmoid')\n",
    "            self.add(layer1)\n",
    "            self.add(layer2)\n",
    "            self.add(layer3)\n",
    "            self.add(layer4)\n",
    "            self.add(layer5)\n",
    "        else:\n",
    "            self.add(Dense(1,input_shape=(1,),activation='sigmoid',weights=[wts_sub[0], np.zeros(1)]))\n",
    "            self.add(Dense(3,activation='sigmoid',weights=[wts_sub[1], np.zeros(3)]))\n",
    "            self.add(Dense(3,activation='sigmoid',weights=[wts_sub[2], np.zeros(3)]))\n",
    "            self.add(Dense(3,activation='sigmoid',weights=[wts_sub[3], np.zeros(3)]))\n",
    "            self.add(Dense(1,activation='sigmoid',weights=[wts_sub[4], np.zeros(1)]))\n",
    "\n",
    "    def f_propagation(self, X_train, y_train):\n",
    "        y_predicted = self.predict(X_train.values)\n",
    "        self.fitness = accuracy_score(y_train, y_predicted.round())\n",
    "\n",
    "    def train(self, epochs):\n",
    "        self.compile(optimizer='rmsprop',loss='binary_crossentropy',metrics=['accuracy'])\n",
    "        self.fit(X_train.values, y_train.values, epochs=epochs)\n",
    "\n",
    "def mutation(wts_sub):\n",
    "    choose = random.randint(0, len(wts_sub)-1)\n",
    "    mut = random.uniform(0, 1)\n",
    "    if mut >= .5:\n",
    "        wts_sub[choose] *= random.randint(2, 5)\n",
    "    else:\n",
    "        pass\n",
    "\n",
    "def cross(nn1, nn2):\n",
    "    nn1_weights = []\n",
    "    nn2_weights = []\n",
    "    wts_sub = []\n",
    "    for layer in nn1.layers:\n",
    "        nn1_weights.append(layer.get_weights()[0])\n",
    "\n",
    "    for layer in nn2.layers:\n",
    "        nn2_weights.append(layer.get_weights()[0])\n",
    "\n",
    "    for i in range(0, len(nn1_weights)):\n",
    "        split = random.randint(0, np.shape(nn1_weights[i])[1]-1)\n",
    "        for j in range(split, np.shape(nn1_weights[i])[1]-1):\n",
    "            nn1_weights[i][:, j] = nn2_weights[i][:, j]\n",
    "\n",
    "        wts_sub.append(nn1_weights[i])\n",
    "\n",
    "    mutation(wts_sub)\n",
    "\n",
    "    child = ENN(wts_sub)\n",
    "    return child\n"
   ],
   "metadata": {
    "collapsed": false,
    "pycharm": {
     "name": "#%%\n"
    }
   }
  },
  {
   "cell_type": "code",
   "execution_count": 3,
   "outputs": [
    {
     "data": {
      "text/plain": "      Percent Change  Liquidate\n0           0.000000          0\n1           0.000495          0\n2          -0.006625         -1\n3           0.002055          0\n4          -0.000555          0\n...              ...        ...\n3274        0.002392          0\n3275       -0.004170          0\n3276        0.005647          1\n3277        0.007369          1\n3278       -0.004598          0\n\n[3279 rows x 2 columns]",
      "text/html": "<div>\n<style scoped>\n    .dataframe tbody tr th:only-of-type {\n        vertical-align: middle;\n    }\n\n    .dataframe tbody tr th {\n        vertical-align: top;\n    }\n\n    .dataframe thead th {\n        text-align: right;\n    }\n</style>\n<table border=\"1\" class=\"dataframe\">\n  <thead>\n    <tr style=\"text-align: right;\">\n      <th></th>\n      <th>Percent Change</th>\n      <th>Liquidate</th>\n    </tr>\n  </thead>\n  <tbody>\n    <tr>\n      <th>0</th>\n      <td>0.000000</td>\n      <td>0</td>\n    </tr>\n    <tr>\n      <th>1</th>\n      <td>0.000495</td>\n      <td>0</td>\n    </tr>\n    <tr>\n      <th>2</th>\n      <td>-0.006625</td>\n      <td>-1</td>\n    </tr>\n    <tr>\n      <th>3</th>\n      <td>0.002055</td>\n      <td>0</td>\n    </tr>\n    <tr>\n      <th>4</th>\n      <td>-0.000555</td>\n      <td>0</td>\n    </tr>\n    <tr>\n      <th>...</th>\n      <td>...</td>\n      <td>...</td>\n    </tr>\n    <tr>\n      <th>3274</th>\n      <td>0.002392</td>\n      <td>0</td>\n    </tr>\n    <tr>\n      <th>3275</th>\n      <td>-0.004170</td>\n      <td>0</td>\n    </tr>\n    <tr>\n      <th>3276</th>\n      <td>0.005647</td>\n      <td>1</td>\n    </tr>\n    <tr>\n      <th>3277</th>\n      <td>0.007369</td>\n      <td>1</td>\n    </tr>\n    <tr>\n      <th>3278</th>\n      <td>-0.004598</td>\n      <td>0</td>\n    </tr>\n  </tbody>\n</table>\n<p>3279 rows × 2 columns</p>\n</div>"
     },
     "execution_count": 3,
     "metadata": {},
     "output_type": "execute_result"
    }
   ],
   "source": [
    "prices = pd.DataFrame()\n",
    "tickers = ['^DJI']\n",
    "for i in tickers:\n",
    "    tmp = web.DataReader(i, 'yahoo', '1/1/2007', '01/12/2020')\n",
    "    prices[i] = tmp['Adj Close']\n",
    "\n",
    "prices['Percent Change'] = prices.pct_change()\n",
    "\n",
    "def set_signal(column):\n",
    "    if column['Percent Change'] < -0.0050:\n",
    "        signal = -1\n",
    "    elif column['Percent Change'] > 0.0050:\n",
    "        signal = 1\n",
    "    else:\n",
    "        signal = 0\n",
    "    return signal\n",
    "\n",
    "prices['Liquidate'] = prices.apply(set_signal, axis=1)\n",
    "prices = prices.replace(np.nan,0)\n",
    "prices = prices.drop(['^DJI'], axis=1)\n",
    "prices.reset_index(inplace=True,drop=True)\n",
    "prices"
   ],
   "metadata": {
    "collapsed": false,
    "pycharm": {
     "name": "#%%\n"
    }
   }
  },
  {
   "cell_type": "code",
   "execution_count": 4,
   "outputs": [
    {
     "name": "stdout",
     "output_type": "stream",
     "text": [
      "0       0.000000\n",
      "1       0.049468\n",
      "2      -0.662469\n",
      "3       0.205521\n",
      "4      -0.055464\n",
      "          ...   \n",
      "3274    0.239219\n",
      "3275   -0.417028\n",
      "3276    0.564693\n",
      "3277    0.736858\n",
      "3278   -0.459755\n",
      "Name: Percent Change, Length: 3279, dtype: float32\n",
      "      Liquidate\n",
      "0             0\n",
      "1             0\n",
      "2            -1\n",
      "3             0\n",
      "4             0\n",
      "...         ...\n",
      "3274          0\n",
      "3275          0\n",
      "3276          1\n",
      "3277          1\n",
      "3278          0\n",
      "\n",
      "[3279 rows x 1 columns]\n"
     ]
    }
   ],
   "source": [
    "X = prices['Percent Change']\n",
    "X = 100*X.round(8)\n",
    "X = X.astype(np.float32)\n",
    "print(X.astype(np.float32))\n",
    "y = prices.drop(['Percent Change'], axis=1)\n",
    "#y = y.astype(np.float32)\n",
    "print(y)\n",
    "X_train, X_test, y_train, y_test = train_test_split(X, y)"
   ],
   "metadata": {
    "collapsed": false,
    "pycharm": {
     "name": "#%%\n"
    }
   }
  },
  {
   "cell_type": "code",
   "execution_count": 5,
   "outputs": [
    {
     "name": "stdout",
     "output_type": "stream",
     "text": [
      "Generation 1\n",
      "WARNING:tensorflow:From C:\\Users\\theon\\anaconda3\\envs\\fe690\\lib\\site-packages\\keras\\backend\\tensorflow_backend.py:422: The name tf.global_variables is deprecated. Please use tf.compat.v1.global_variables instead.\n",
      "\n",
      "Fitness Score:  0.52745018300122\n",
      "[array([[-0.18007028]], dtype=float32), array([[-0.3734979, -0.6116921,  0.0135982]], dtype=float32), array([[-0.67697763, -0.3669834 , -0.98618317],\n",
      "       [ 0.32843876,  0.58297896,  0.756027  ],\n",
      "       [-0.29567385, -0.92154336,  0.10063314]], dtype=float32), array([[ 0.9209757 ,  0.12847257, -0.45686913],\n",
      "       [ 0.15937471, -0.8362098 ,  0.2838583 ],\n",
      "       [-0.02626586,  0.5696068 ,  0.58939576]], dtype=float32), array([[-0.0678612 ],\n",
      "       [-0.18778503],\n",
      "       [-0.43860328]], dtype=float32)]\n",
      "Generation 2\n",
      "Generation 3\n",
      "Generation 4\n",
      "Generation 5\n",
      "Generation 6\n",
      "Generation 7\n",
      "Generation 8\n",
      "Generation 9\n",
      "Generation 10\n",
      "Generation 11\n",
      "Generation 12\n",
      "Generation 13\n",
      "Fitness Score:  0.7848718991459943\n",
      "[array([[-1.3304343]], dtype=float32), array([[-4.1956697 , -0.74789435, -0.14174366]], dtype=float32), array([[ 0.6543691 , -0.992717  , -3.1531684 ],\n",
      "       [ 0.78485894, -0.28002524,  6.1182604 ],\n",
      "       [-0.8220217 , -0.24014235, -1.2660391 ]], dtype=float32), array([[ -1.7162597,   3.7543058, -13.281251 ],\n",
      "       [ -1.2041688,  -4.5798755, -12.777321 ],\n",
      "       [ -4.9852524,  -4.9590836,  -5.1404896]], dtype=float32), array([[-4.8557606],\n",
      "       [ 1.0750532],\n",
      "       [ 4.3684273]], dtype=float32)]\n",
      "Generation 14\n",
      "Generation 15\n",
      "Generation 16\n",
      "Generation 17\n",
      "Generation 18\n",
      "Generation 19\n",
      "Generation 20\n",
      "Generation 21\n",
      "Generation 22\n",
      "Generation 23\n",
      "Generation 24\n",
      "Generation 25\n",
      "Generation 26\n",
      "Generation 27\n",
      "Generation 28\n",
      "Generation 29\n",
      "Generation 30\n",
      "Generation 31\n",
      "Generation 32\n"
     ]
    },
    {
     "ename": "KeyboardInterrupt",
     "evalue": "",
     "output_type": "error",
     "traceback": [
      "\u001B[1;31m---------------------------------------------------------------------------\u001B[0m",
      "\u001B[1;31mKeyboardInterrupt\u001B[0m                         Traceback (most recent call last)",
      "\u001B[1;32m<ipython-input-5-8497ff6a4281>\u001B[0m in \u001B[0;36m<module>\u001B[1;34m\u001B[0m\n\u001B[0;32m     35\u001B[0m     \u001B[1;32mfor\u001B[0m \u001B[0mi\u001B[0m \u001B[1;32min\u001B[0m \u001B[0mrange\u001B[0m\u001B[1;33m(\u001B[0m\u001B[1;36m0\u001B[0m\u001B[1;33m,\u001B[0m \u001B[1;36m5\u001B[0m\u001B[1;33m)\u001B[0m\u001B[1;33m:\u001B[0m\u001B[1;33m\u001B[0m\u001B[1;33m\u001B[0m\u001B[0m\n\u001B[0;32m     36\u001B[0m         \u001B[1;32mfor\u001B[0m \u001B[0mj\u001B[0m \u001B[1;32min\u001B[0m \u001B[0mrange\u001B[0m\u001B[1;33m(\u001B[0m\u001B[1;36m0\u001B[0m\u001B[1;33m,\u001B[0m \u001B[1;36m2\u001B[0m\u001B[1;33m)\u001B[0m\u001B[1;33m:\u001B[0m\u001B[1;33m\u001B[0m\u001B[1;33m\u001B[0m\u001B[0m\n\u001B[1;32m---> 37\u001B[1;33m             \u001B[0mtemp\u001B[0m \u001B[1;33m=\u001B[0m \u001B[0mcross\u001B[0m\u001B[1;33m(\u001B[0m\u001B[0mpool\u001B[0m\u001B[1;33m[\u001B[0m\u001B[0mi\u001B[0m\u001B[1;33m]\u001B[0m\u001B[1;33m,\u001B[0m \u001B[0mrandom\u001B[0m\u001B[1;33m.\u001B[0m\u001B[0mchoice\u001B[0m\u001B[1;33m(\u001B[0m\u001B[0mpool\u001B[0m\u001B[1;33m)\u001B[0m\u001B[1;33m)\u001B[0m\u001B[1;33m\u001B[0m\u001B[1;33m\u001B[0m\u001B[0m\n\u001B[0m\u001B[0;32m     38\u001B[0m             \u001B[0mnetworks\u001B[0m\u001B[1;33m.\u001B[0m\u001B[0mappend\u001B[0m\u001B[1;33m(\u001B[0m\u001B[0mtemp\u001B[0m\u001B[1;33m)\u001B[0m\u001B[1;33m\u001B[0m\u001B[1;33m\u001B[0m\u001B[0m\n\u001B[0;32m     39\u001B[0m \u001B[1;33m\u001B[0m\u001B[0m\n",
      "\u001B[1;32m<ipython-input-2-f57575fcd63d>\u001B[0m in \u001B[0;36mcross\u001B[1;34m(nn1, nn2)\u001B[0m\n\u001B[0;32m     55\u001B[0m     \u001B[0mmutation\u001B[0m\u001B[1;33m(\u001B[0m\u001B[0mwts_sub\u001B[0m\u001B[1;33m)\u001B[0m\u001B[1;33m\u001B[0m\u001B[1;33m\u001B[0m\u001B[0m\n\u001B[0;32m     56\u001B[0m \u001B[1;33m\u001B[0m\u001B[0m\n\u001B[1;32m---> 57\u001B[1;33m     \u001B[0mchild\u001B[0m \u001B[1;33m=\u001B[0m \u001B[0mENN\u001B[0m\u001B[1;33m(\u001B[0m\u001B[0mwts_sub\u001B[0m\u001B[1;33m)\u001B[0m\u001B[1;33m\u001B[0m\u001B[1;33m\u001B[0m\u001B[0m\n\u001B[0m\u001B[0;32m     58\u001B[0m     \u001B[1;32mreturn\u001B[0m \u001B[0mchild\u001B[0m\u001B[1;33m\u001B[0m\u001B[1;33m\u001B[0m\u001B[0m\n\u001B[0;32m     59\u001B[0m \u001B[1;33m\u001B[0m\u001B[0m\n",
      "\u001B[1;32m<ipython-input-2-f57575fcd63d>\u001B[0m in \u001B[0;36m__init__\u001B[1;34m(self, wts_sub)\u001B[0m\n\u001B[0;32m     14\u001B[0m             \u001B[0mself\u001B[0m\u001B[1;33m.\u001B[0m\u001B[0madd\u001B[0m\u001B[1;33m(\u001B[0m\u001B[0mlayer5\u001B[0m\u001B[1;33m)\u001B[0m\u001B[1;33m\u001B[0m\u001B[1;33m\u001B[0m\u001B[0m\n\u001B[0;32m     15\u001B[0m         \u001B[1;32melse\u001B[0m\u001B[1;33m:\u001B[0m\u001B[1;33m\u001B[0m\u001B[1;33m\u001B[0m\u001B[0m\n\u001B[1;32m---> 16\u001B[1;33m             \u001B[0mself\u001B[0m\u001B[1;33m.\u001B[0m\u001B[0madd\u001B[0m\u001B[1;33m(\u001B[0m\u001B[0mDense\u001B[0m\u001B[1;33m(\u001B[0m\u001B[1;36m1\u001B[0m\u001B[1;33m,\u001B[0m\u001B[0minput_shape\u001B[0m\u001B[1;33m=\u001B[0m\u001B[1;33m(\u001B[0m\u001B[1;36m1\u001B[0m\u001B[1;33m,\u001B[0m\u001B[1;33m)\u001B[0m\u001B[1;33m,\u001B[0m\u001B[0mactivation\u001B[0m\u001B[1;33m=\u001B[0m\u001B[1;34m'sigmoid'\u001B[0m\u001B[1;33m,\u001B[0m\u001B[0mweights\u001B[0m\u001B[1;33m=\u001B[0m\u001B[1;33m[\u001B[0m\u001B[0mwts_sub\u001B[0m\u001B[1;33m[\u001B[0m\u001B[1;36m0\u001B[0m\u001B[1;33m]\u001B[0m\u001B[1;33m,\u001B[0m \u001B[0mnp\u001B[0m\u001B[1;33m.\u001B[0m\u001B[0mzeros\u001B[0m\u001B[1;33m(\u001B[0m\u001B[1;36m1\u001B[0m\u001B[1;33m)\u001B[0m\u001B[1;33m]\u001B[0m\u001B[1;33m)\u001B[0m\u001B[1;33m)\u001B[0m\u001B[1;33m\u001B[0m\u001B[1;33m\u001B[0m\u001B[0m\n\u001B[0m\u001B[0;32m     17\u001B[0m             \u001B[0mself\u001B[0m\u001B[1;33m.\u001B[0m\u001B[0madd\u001B[0m\u001B[1;33m(\u001B[0m\u001B[0mDense\u001B[0m\u001B[1;33m(\u001B[0m\u001B[1;36m3\u001B[0m\u001B[1;33m,\u001B[0m\u001B[0mactivation\u001B[0m\u001B[1;33m=\u001B[0m\u001B[1;34m'sigmoid'\u001B[0m\u001B[1;33m,\u001B[0m\u001B[0mweights\u001B[0m\u001B[1;33m=\u001B[0m\u001B[1;33m[\u001B[0m\u001B[0mwts_sub\u001B[0m\u001B[1;33m[\u001B[0m\u001B[1;36m1\u001B[0m\u001B[1;33m]\u001B[0m\u001B[1;33m,\u001B[0m \u001B[0mnp\u001B[0m\u001B[1;33m.\u001B[0m\u001B[0mzeros\u001B[0m\u001B[1;33m(\u001B[0m\u001B[1;36m3\u001B[0m\u001B[1;33m)\u001B[0m\u001B[1;33m]\u001B[0m\u001B[1;33m)\u001B[0m\u001B[1;33m)\u001B[0m\u001B[1;33m\u001B[0m\u001B[1;33m\u001B[0m\u001B[0m\n\u001B[0;32m     18\u001B[0m             \u001B[0mself\u001B[0m\u001B[1;33m.\u001B[0m\u001B[0madd\u001B[0m\u001B[1;33m(\u001B[0m\u001B[0mDense\u001B[0m\u001B[1;33m(\u001B[0m\u001B[1;36m3\u001B[0m\u001B[1;33m,\u001B[0m\u001B[0mactivation\u001B[0m\u001B[1;33m=\u001B[0m\u001B[1;34m'sigmoid'\u001B[0m\u001B[1;33m,\u001B[0m\u001B[0mweights\u001B[0m\u001B[1;33m=\u001B[0m\u001B[1;33m[\u001B[0m\u001B[0mwts_sub\u001B[0m\u001B[1;33m[\u001B[0m\u001B[1;36m2\u001B[0m\u001B[1;33m]\u001B[0m\u001B[1;33m,\u001B[0m \u001B[0mnp\u001B[0m\u001B[1;33m.\u001B[0m\u001B[0mzeros\u001B[0m\u001B[1;33m(\u001B[0m\u001B[1;36m3\u001B[0m\u001B[1;33m)\u001B[0m\u001B[1;33m]\u001B[0m\u001B[1;33m)\u001B[0m\u001B[1;33m)\u001B[0m\u001B[1;33m\u001B[0m\u001B[1;33m\u001B[0m\u001B[0m\n",
      "\u001B[1;32m~\\anaconda3\\envs\\fe690\\lib\\site-packages\\keras\\engine\\sequential.py\u001B[0m in \u001B[0;36madd\u001B[1;34m(self, layer)\u001B[0m\n\u001B[0;32m    164\u001B[0m                     \u001B[1;31m# and create the node connecting the current layer\u001B[0m\u001B[1;33m\u001B[0m\u001B[1;33m\u001B[0m\u001B[1;33m\u001B[0m\u001B[0m\n\u001B[0;32m    165\u001B[0m                     \u001B[1;31m# to the input layer we just created.\u001B[0m\u001B[1;33m\u001B[0m\u001B[1;33m\u001B[0m\u001B[1;33m\u001B[0m\u001B[0m\n\u001B[1;32m--> 166\u001B[1;33m                     \u001B[0mlayer\u001B[0m\u001B[1;33m(\u001B[0m\u001B[0mx\u001B[0m\u001B[1;33m)\u001B[0m\u001B[1;33m\u001B[0m\u001B[1;33m\u001B[0m\u001B[0m\n\u001B[0m\u001B[0;32m    167\u001B[0m                     \u001B[0mset_inputs\u001B[0m \u001B[1;33m=\u001B[0m \u001B[1;32mTrue\u001B[0m\u001B[1;33m\u001B[0m\u001B[1;33m\u001B[0m\u001B[0m\n\u001B[0;32m    168\u001B[0m             \u001B[1;32melse\u001B[0m\u001B[1;33m:\u001B[0m\u001B[1;33m\u001B[0m\u001B[1;33m\u001B[0m\u001B[0m\n",
      "\u001B[1;32m~\\anaconda3\\envs\\fe690\\lib\\site-packages\\keras\\engine\\base_layer.py\u001B[0m in \u001B[0;36m__call__\u001B[1;34m(self, inputs, **kwargs)\u001B[0m\n\u001B[0;32m    466\u001B[0m                 \u001B[1;31m# Load weights that were specified at layer instantiation.\u001B[0m\u001B[1;33m\u001B[0m\u001B[1;33m\u001B[0m\u001B[1;33m\u001B[0m\u001B[0m\n\u001B[0;32m    467\u001B[0m                 \u001B[1;32mif\u001B[0m \u001B[0mself\u001B[0m\u001B[1;33m.\u001B[0m\u001B[0m_initial_weights\u001B[0m \u001B[1;32mis\u001B[0m \u001B[1;32mnot\u001B[0m \u001B[1;32mNone\u001B[0m\u001B[1;33m:\u001B[0m\u001B[1;33m\u001B[0m\u001B[1;33m\u001B[0m\u001B[0m\n\u001B[1;32m--> 468\u001B[1;33m                     \u001B[0mself\u001B[0m\u001B[1;33m.\u001B[0m\u001B[0mset_weights\u001B[0m\u001B[1;33m(\u001B[0m\u001B[0mself\u001B[0m\u001B[1;33m.\u001B[0m\u001B[0m_initial_weights\u001B[0m\u001B[1;33m)\u001B[0m\u001B[1;33m\u001B[0m\u001B[1;33m\u001B[0m\u001B[0m\n\u001B[0m\u001B[0;32m    469\u001B[0m \u001B[1;33m\u001B[0m\u001B[0m\n\u001B[0;32m    470\u001B[0m             \u001B[1;31m# Raise exceptions in case the input is not compatible\u001B[0m\u001B[1;33m\u001B[0m\u001B[1;33m\u001B[0m\u001B[1;33m\u001B[0m\u001B[0m\n",
      "\u001B[1;32m~\\anaconda3\\envs\\fe690\\lib\\site-packages\\keras\\engine\\base_layer.py\u001B[0m in \u001B[0;36mset_weights\u001B[1;34m(self, weights)\u001B[0m\n\u001B[0;32m   1118\u001B[0m             \u001B[1;32mreturn\u001B[0m\u001B[1;33m\u001B[0m\u001B[1;33m\u001B[0m\u001B[0m\n\u001B[0;32m   1119\u001B[0m         \u001B[0mweight_value_tuples\u001B[0m \u001B[1;33m=\u001B[0m \u001B[1;33m[\u001B[0m\u001B[1;33m]\u001B[0m\u001B[1;33m\u001B[0m\u001B[1;33m\u001B[0m\u001B[0m\n\u001B[1;32m-> 1120\u001B[1;33m         \u001B[0mparam_values\u001B[0m \u001B[1;33m=\u001B[0m \u001B[0mK\u001B[0m\u001B[1;33m.\u001B[0m\u001B[0mbatch_get_value\u001B[0m\u001B[1;33m(\u001B[0m\u001B[0mparams\u001B[0m\u001B[1;33m)\u001B[0m\u001B[1;33m\u001B[0m\u001B[1;33m\u001B[0m\u001B[0m\n\u001B[0m\u001B[0;32m   1121\u001B[0m         \u001B[1;32mfor\u001B[0m \u001B[0mpv\u001B[0m\u001B[1;33m,\u001B[0m \u001B[0mp\u001B[0m\u001B[1;33m,\u001B[0m \u001B[0mw\u001B[0m \u001B[1;32min\u001B[0m \u001B[0mzip\u001B[0m\u001B[1;33m(\u001B[0m\u001B[0mparam_values\u001B[0m\u001B[1;33m,\u001B[0m \u001B[0mparams\u001B[0m\u001B[1;33m,\u001B[0m \u001B[0mweights\u001B[0m\u001B[1;33m)\u001B[0m\u001B[1;33m:\u001B[0m\u001B[1;33m\u001B[0m\u001B[1;33m\u001B[0m\u001B[0m\n\u001B[0;32m   1122\u001B[0m             \u001B[1;32mif\u001B[0m \u001B[0mpv\u001B[0m\u001B[1;33m.\u001B[0m\u001B[0mshape\u001B[0m \u001B[1;33m!=\u001B[0m \u001B[0mw\u001B[0m\u001B[1;33m.\u001B[0m\u001B[0mshape\u001B[0m\u001B[1;33m:\u001B[0m\u001B[1;33m\u001B[0m\u001B[1;33m\u001B[0m\u001B[0m\n",
      "\u001B[1;32m~\\anaconda3\\envs\\fe690\\lib\\site-packages\\keras\\backend\\tensorflow_backend.py\u001B[0m in \u001B[0;36mbatch_get_value\u001B[1;34m(ops)\u001B[0m\n\u001B[0;32m   2937\u001B[0m         \u001B[0mA\u001B[0m \u001B[0mlist\u001B[0m \u001B[0mof\u001B[0m \u001B[0mNumpy\u001B[0m \u001B[0marrays\u001B[0m\u001B[1;33m.\u001B[0m\u001B[1;33m\u001B[0m\u001B[1;33m\u001B[0m\u001B[0m\n\u001B[0;32m   2938\u001B[0m     \"\"\"\n\u001B[1;32m-> 2939\u001B[1;33m     \u001B[1;32mreturn\u001B[0m \u001B[0mtf_keras_backend\u001B[0m\u001B[1;33m.\u001B[0m\u001B[0mbatch_get_value\u001B[0m\u001B[1;33m(\u001B[0m\u001B[0mops\u001B[0m\u001B[1;33m)\u001B[0m\u001B[1;33m\u001B[0m\u001B[1;33m\u001B[0m\u001B[0m\n\u001B[0m\u001B[0;32m   2940\u001B[0m \u001B[1;33m\u001B[0m\u001B[0m\n\u001B[0;32m   2941\u001B[0m \u001B[1;33m\u001B[0m\u001B[0m\n",
      "\u001B[1;32m~\\anaconda3\\envs\\fe690\\lib\\site-packages\\tensorflow\\python\\keras\\backend.py\u001B[0m in \u001B[0;36mbatch_get_value\u001B[1;34m(tensors)\u001B[0m\n\u001B[0;32m   3008\u001B[0m     \u001B[1;32mraise\u001B[0m \u001B[0mRuntimeError\u001B[0m\u001B[1;33m(\u001B[0m\u001B[1;34m'Cannot get value inside Tensorflow graph function.'\u001B[0m\u001B[1;33m)\u001B[0m\u001B[1;33m\u001B[0m\u001B[1;33m\u001B[0m\u001B[0m\n\u001B[0;32m   3009\u001B[0m   \u001B[1;32mif\u001B[0m \u001B[0mtensors\u001B[0m\u001B[1;33m:\u001B[0m\u001B[1;33m\u001B[0m\u001B[1;33m\u001B[0m\u001B[0m\n\u001B[1;32m-> 3010\u001B[1;33m     \u001B[1;32mreturn\u001B[0m \u001B[0mget_session\u001B[0m\u001B[1;33m(\u001B[0m\u001B[0mtensors\u001B[0m\u001B[1;33m)\u001B[0m\u001B[1;33m.\u001B[0m\u001B[0mrun\u001B[0m\u001B[1;33m(\u001B[0m\u001B[0mtensors\u001B[0m\u001B[1;33m)\u001B[0m\u001B[1;33m\u001B[0m\u001B[1;33m\u001B[0m\u001B[0m\n\u001B[0m\u001B[0;32m   3011\u001B[0m   \u001B[1;32melse\u001B[0m\u001B[1;33m:\u001B[0m\u001B[1;33m\u001B[0m\u001B[1;33m\u001B[0m\u001B[0m\n\u001B[0;32m   3012\u001B[0m     \u001B[1;32mreturn\u001B[0m \u001B[1;33m[\u001B[0m\u001B[1;33m]\u001B[0m\u001B[1;33m\u001B[0m\u001B[1;33m\u001B[0m\u001B[0m\n",
      "\u001B[1;32m~\\anaconda3\\envs\\fe690\\lib\\site-packages\\tensorflow\\python\\keras\\backend.py\u001B[0m in \u001B[0;36mget_session\u001B[1;34m(op_input_list)\u001B[0m\n\u001B[0;32m    460\u001B[0m   \u001B[1;32mif\u001B[0m \u001B[1;32mnot\u001B[0m \u001B[0m_MANUAL_VAR_INIT\u001B[0m\u001B[1;33m:\u001B[0m\u001B[1;33m\u001B[0m\u001B[1;33m\u001B[0m\u001B[0m\n\u001B[0;32m    461\u001B[0m     \u001B[1;32mwith\u001B[0m \u001B[0msession\u001B[0m\u001B[1;33m.\u001B[0m\u001B[0mgraph\u001B[0m\u001B[1;33m.\u001B[0m\u001B[0mas_default\u001B[0m\u001B[1;33m(\u001B[0m\u001B[1;33m)\u001B[0m\u001B[1;33m:\u001B[0m\u001B[1;33m\u001B[0m\u001B[1;33m\u001B[0m\u001B[0m\n\u001B[1;32m--> 462\u001B[1;33m       \u001B[0m_initialize_variables\u001B[0m\u001B[1;33m(\u001B[0m\u001B[0msession\u001B[0m\u001B[1;33m)\u001B[0m\u001B[1;33m\u001B[0m\u001B[1;33m\u001B[0m\u001B[0m\n\u001B[0m\u001B[0;32m    463\u001B[0m   \u001B[1;32mreturn\u001B[0m \u001B[0msession\u001B[0m\u001B[1;33m\u001B[0m\u001B[1;33m\u001B[0m\u001B[0m\n\u001B[0;32m    464\u001B[0m \u001B[1;33m\u001B[0m\u001B[0m\n",
      "\u001B[1;32m~\\anaconda3\\envs\\fe690\\lib\\site-packages\\tensorflow\\python\\keras\\backend.py\u001B[0m in \u001B[0;36m_initialize_variables\u001B[1;34m(session)\u001B[0m\n\u001B[0;32m    877\u001B[0m     \u001B[1;31m# marked as initialized.\u001B[0m\u001B[1;33m\u001B[0m\u001B[1;33m\u001B[0m\u001B[1;33m\u001B[0m\u001B[0m\n\u001B[0;32m    878\u001B[0m     is_initialized = session.run(\n\u001B[1;32m--> 879\u001B[1;33m         [variables_module.is_variable_initialized(v) for v in candidate_vars])\n\u001B[0m\u001B[0;32m    880\u001B[0m     \u001B[0muninitialized_vars\u001B[0m \u001B[1;33m=\u001B[0m \u001B[1;33m[\u001B[0m\u001B[1;33m]\u001B[0m\u001B[1;33m\u001B[0m\u001B[1;33m\u001B[0m\u001B[0m\n\u001B[0;32m    881\u001B[0m     \u001B[1;32mfor\u001B[0m \u001B[0mflag\u001B[0m\u001B[1;33m,\u001B[0m \u001B[0mv\u001B[0m \u001B[1;32min\u001B[0m \u001B[0mzip\u001B[0m\u001B[1;33m(\u001B[0m\u001B[0mis_initialized\u001B[0m\u001B[1;33m,\u001B[0m \u001B[0mcandidate_vars\u001B[0m\u001B[1;33m)\u001B[0m\u001B[1;33m:\u001B[0m\u001B[1;33m\u001B[0m\u001B[1;33m\u001B[0m\u001B[0m\n",
      "\u001B[1;32m~\\anaconda3\\envs\\fe690\\lib\\site-packages\\tensorflow\\python\\client\\session.py\u001B[0m in \u001B[0;36mrun\u001B[1;34m(self, fetches, feed_dict, options, run_metadata)\u001B[0m\n\u001B[0;32m    948\u001B[0m     \u001B[1;32mtry\u001B[0m\u001B[1;33m:\u001B[0m\u001B[1;33m\u001B[0m\u001B[1;33m\u001B[0m\u001B[0m\n\u001B[0;32m    949\u001B[0m       result = self._run(None, fetches, feed_dict, options_ptr,\n\u001B[1;32m--> 950\u001B[1;33m                          run_metadata_ptr)\n\u001B[0m\u001B[0;32m    951\u001B[0m       \u001B[1;32mif\u001B[0m \u001B[0mrun_metadata\u001B[0m\u001B[1;33m:\u001B[0m\u001B[1;33m\u001B[0m\u001B[1;33m\u001B[0m\u001B[0m\n\u001B[0;32m    952\u001B[0m         \u001B[0mproto_data\u001B[0m \u001B[1;33m=\u001B[0m \u001B[0mtf_session\u001B[0m\u001B[1;33m.\u001B[0m\u001B[0mTF_GetBuffer\u001B[0m\u001B[1;33m(\u001B[0m\u001B[0mrun_metadata_ptr\u001B[0m\u001B[1;33m)\u001B[0m\u001B[1;33m\u001B[0m\u001B[1;33m\u001B[0m\u001B[0m\n",
      "\u001B[1;32m~\\anaconda3\\envs\\fe690\\lib\\site-packages\\tensorflow\\python\\client\\session.py\u001B[0m in \u001B[0;36m_run\u001B[1;34m(self, handle, fetches, feed_dict, options, run_metadata)\u001B[0m\n\u001B[0;32m   1171\u001B[0m     \u001B[1;32mif\u001B[0m \u001B[0mfinal_fetches\u001B[0m \u001B[1;32mor\u001B[0m \u001B[0mfinal_targets\u001B[0m \u001B[1;32mor\u001B[0m \u001B[1;33m(\u001B[0m\u001B[0mhandle\u001B[0m \u001B[1;32mand\u001B[0m \u001B[0mfeed_dict_tensor\u001B[0m\u001B[1;33m)\u001B[0m\u001B[1;33m:\u001B[0m\u001B[1;33m\u001B[0m\u001B[1;33m\u001B[0m\u001B[0m\n\u001B[0;32m   1172\u001B[0m       results = self._do_run(handle, final_targets, final_fetches,\n\u001B[1;32m-> 1173\u001B[1;33m                              feed_dict_tensor, options, run_metadata)\n\u001B[0m\u001B[0;32m   1174\u001B[0m     \u001B[1;32melse\u001B[0m\u001B[1;33m:\u001B[0m\u001B[1;33m\u001B[0m\u001B[1;33m\u001B[0m\u001B[0m\n\u001B[0;32m   1175\u001B[0m       \u001B[0mresults\u001B[0m \u001B[1;33m=\u001B[0m \u001B[1;33m[\u001B[0m\u001B[1;33m]\u001B[0m\u001B[1;33m\u001B[0m\u001B[1;33m\u001B[0m\u001B[0m\n",
      "\u001B[1;32m~\\anaconda3\\envs\\fe690\\lib\\site-packages\\tensorflow\\python\\client\\session.py\u001B[0m in \u001B[0;36m_do_run\u001B[1;34m(self, handle, target_list, fetch_list, feed_dict, options, run_metadata)\u001B[0m\n\u001B[0;32m   1348\u001B[0m     \u001B[1;32mif\u001B[0m \u001B[0mhandle\u001B[0m \u001B[1;32mis\u001B[0m \u001B[1;32mNone\u001B[0m\u001B[1;33m:\u001B[0m\u001B[1;33m\u001B[0m\u001B[1;33m\u001B[0m\u001B[0m\n\u001B[0;32m   1349\u001B[0m       return self._do_call(_run_fn, feeds, fetches, targets, options,\n\u001B[1;32m-> 1350\u001B[1;33m                            run_metadata)\n\u001B[0m\u001B[0;32m   1351\u001B[0m     \u001B[1;32melse\u001B[0m\u001B[1;33m:\u001B[0m\u001B[1;33m\u001B[0m\u001B[1;33m\u001B[0m\u001B[0m\n\u001B[0;32m   1352\u001B[0m       \u001B[1;32mreturn\u001B[0m \u001B[0mself\u001B[0m\u001B[1;33m.\u001B[0m\u001B[0m_do_call\u001B[0m\u001B[1;33m(\u001B[0m\u001B[0m_prun_fn\u001B[0m\u001B[1;33m,\u001B[0m \u001B[0mhandle\u001B[0m\u001B[1;33m,\u001B[0m \u001B[0mfeeds\u001B[0m\u001B[1;33m,\u001B[0m \u001B[0mfetches\u001B[0m\u001B[1;33m)\u001B[0m\u001B[1;33m\u001B[0m\u001B[1;33m\u001B[0m\u001B[0m\n",
      "\u001B[1;32m~\\anaconda3\\envs\\fe690\\lib\\site-packages\\tensorflow\\python\\client\\session.py\u001B[0m in \u001B[0;36m_do_call\u001B[1;34m(self, fn, *args)\u001B[0m\n\u001B[0;32m   1354\u001B[0m   \u001B[1;32mdef\u001B[0m \u001B[0m_do_call\u001B[0m\u001B[1;33m(\u001B[0m\u001B[0mself\u001B[0m\u001B[1;33m,\u001B[0m \u001B[0mfn\u001B[0m\u001B[1;33m,\u001B[0m \u001B[1;33m*\u001B[0m\u001B[0margs\u001B[0m\u001B[1;33m)\u001B[0m\u001B[1;33m:\u001B[0m\u001B[1;33m\u001B[0m\u001B[1;33m\u001B[0m\u001B[0m\n\u001B[0;32m   1355\u001B[0m     \u001B[1;32mtry\u001B[0m\u001B[1;33m:\u001B[0m\u001B[1;33m\u001B[0m\u001B[1;33m\u001B[0m\u001B[0m\n\u001B[1;32m-> 1356\u001B[1;33m       \u001B[1;32mreturn\u001B[0m \u001B[0mfn\u001B[0m\u001B[1;33m(\u001B[0m\u001B[1;33m*\u001B[0m\u001B[0margs\u001B[0m\u001B[1;33m)\u001B[0m\u001B[1;33m\u001B[0m\u001B[1;33m\u001B[0m\u001B[0m\n\u001B[0m\u001B[0;32m   1357\u001B[0m     \u001B[1;32mexcept\u001B[0m \u001B[0merrors\u001B[0m\u001B[1;33m.\u001B[0m\u001B[0mOpError\u001B[0m \u001B[1;32mas\u001B[0m \u001B[0me\u001B[0m\u001B[1;33m:\u001B[0m\u001B[1;33m\u001B[0m\u001B[1;33m\u001B[0m\u001B[0m\n\u001B[0;32m   1358\u001B[0m       \u001B[0mmessage\u001B[0m \u001B[1;33m=\u001B[0m \u001B[0mcompat\u001B[0m\u001B[1;33m.\u001B[0m\u001B[0mas_text\u001B[0m\u001B[1;33m(\u001B[0m\u001B[0me\u001B[0m\u001B[1;33m.\u001B[0m\u001B[0mmessage\u001B[0m\u001B[1;33m)\u001B[0m\u001B[1;33m\u001B[0m\u001B[1;33m\u001B[0m\u001B[0m\n",
      "\u001B[1;32m~\\anaconda3\\envs\\fe690\\lib\\site-packages\\tensorflow\\python\\client\\session.py\u001B[0m in \u001B[0;36m_run_fn\u001B[1;34m(feed_dict, fetch_list, target_list, options, run_metadata)\u001B[0m\n\u001B[0;32m   1339\u001B[0m       \u001B[0mself\u001B[0m\u001B[1;33m.\u001B[0m\u001B[0m_extend_graph\u001B[0m\u001B[1;33m(\u001B[0m\u001B[1;33m)\u001B[0m\u001B[1;33m\u001B[0m\u001B[1;33m\u001B[0m\u001B[0m\n\u001B[0;32m   1340\u001B[0m       return self._call_tf_sessionrun(\n\u001B[1;32m-> 1341\u001B[1;33m           options, feed_dict, fetch_list, target_list, run_metadata)\n\u001B[0m\u001B[0;32m   1342\u001B[0m \u001B[1;33m\u001B[0m\u001B[0m\n\u001B[0;32m   1343\u001B[0m     \u001B[1;32mdef\u001B[0m \u001B[0m_prun_fn\u001B[0m\u001B[1;33m(\u001B[0m\u001B[0mhandle\u001B[0m\u001B[1;33m,\u001B[0m \u001B[0mfeed_dict\u001B[0m\u001B[1;33m,\u001B[0m \u001B[0mfetch_list\u001B[0m\u001B[1;33m)\u001B[0m\u001B[1;33m:\u001B[0m\u001B[1;33m\u001B[0m\u001B[1;33m\u001B[0m\u001B[0m\n",
      "\u001B[1;32m~\\anaconda3\\envs\\fe690\\lib\\site-packages\\tensorflow\\python\\client\\session.py\u001B[0m in \u001B[0;36m_call_tf_sessionrun\u001B[1;34m(self, options, feed_dict, fetch_list, target_list, run_metadata)\u001B[0m\n\u001B[0;32m   1427\u001B[0m     return tf_session.TF_SessionRun_wrapper(\n\u001B[0;32m   1428\u001B[0m         \u001B[0mself\u001B[0m\u001B[1;33m.\u001B[0m\u001B[0m_session\u001B[0m\u001B[1;33m,\u001B[0m \u001B[0moptions\u001B[0m\u001B[1;33m,\u001B[0m \u001B[0mfeed_dict\u001B[0m\u001B[1;33m,\u001B[0m \u001B[0mfetch_list\u001B[0m\u001B[1;33m,\u001B[0m \u001B[0mtarget_list\u001B[0m\u001B[1;33m,\u001B[0m\u001B[1;33m\u001B[0m\u001B[1;33m\u001B[0m\u001B[0m\n\u001B[1;32m-> 1429\u001B[1;33m         run_metadata)\n\u001B[0m\u001B[0;32m   1430\u001B[0m \u001B[1;33m\u001B[0m\u001B[0m\n\u001B[0;32m   1431\u001B[0m   \u001B[1;32mdef\u001B[0m \u001B[0m_call_tf_sessionprun\u001B[0m\u001B[1;33m(\u001B[0m\u001B[0mself\u001B[0m\u001B[1;33m,\u001B[0m \u001B[0mhandle\u001B[0m\u001B[1;33m,\u001B[0m \u001B[0mfeed_dict\u001B[0m\u001B[1;33m,\u001B[0m \u001B[0mfetch_list\u001B[0m\u001B[1;33m)\u001B[0m\u001B[1;33m:\u001B[0m\u001B[1;33m\u001B[0m\u001B[1;33m\u001B[0m\u001B[0m\n",
      "\u001B[1;31mKeyboardInterrupt\u001B[0m: "
     ]
    }
   ],
   "source": [
    "networks = []\n",
    "pool = []\n",
    "gen = 0\n",
    "n = 20\n",
    "\n",
    "for i in range(0, n):\n",
    "    networks.append(ENN())\n",
    "\n",
    "fit_max = 0\n",
    "\n",
    "wts_opt = []\n",
    "\n",
    "while fit_max < .9:\n",
    "    gen += 1\n",
    "    print('Generation', gen)\n",
    "\n",
    "    for nn in networks:\n",
    "        nn.f_propagation(X_train, y_train)\n",
    "        pool.append(nn)\n",
    "\n",
    "    networks.clear()\n",
    "\n",
    "    pool = sorted(pool, key=lambda x: x.fitness)\n",
    "    pool.reverse()\n",
    "\n",
    "    for i in range(0, len(pool)):\n",
    "        if pool[i].fitness > fit_max:\n",
    "            fit_max = pool[i].fitness\n",
    "            print('Fitness Score: ', fit_max)\n",
    "            wts_opt = []\n",
    "            for layer in pool[i].layers:\n",
    "              wts_opt.append(layer.get_weights()[0])\n",
    "            print(wts_opt)\n",
    "\n",
    "    for i in range(0, 5):\n",
    "        for j in range(0, 2):\n",
    "            temp = cross(pool[i], random.choice(pool))\n",
    "            networks.append(temp)\n",
    "\n",
    "portfolio_enn = ENN(wts_opt)\n",
    "portfolio_enn.train(10)\n",
    "y_predicted = portfolio_enn.predict(X_test.values)\n",
    "print('Accuracy: %.2f' % accuracy_score(y_test, y_predicted.round()))"
   ],
   "metadata": {
    "collapsed": false,
    "pycharm": {
     "name": "#%%\n"
    }
   }
  },
  {
   "cell_type": "code",
   "execution_count": null,
   "outputs": [],
   "source": [
    "portfolio_nn = Sequential()\n",
    "portfolio_nn.add(Dense(1, input_shape=(1,), activation='sigmoid'))\n",
    "portfolio_nn.add(Dense(3, activation='sigmoid'))\n",
    "portfolio_nn.add(Dense(3, activation='sigmoid'))\n",
    "portfolio_nn.add(Dense(3, activation='sigmoid'))\n",
    "portfolio_nn.add(Dense(1, activation='sigmoid'))\n",
    "portfolio_nn.compile(optimizer='rmsprop',loss='hinge',metrics=['accuracy'])\n",
    "portfolio_nn.fit(X_train.values, y_train.values, epochs=500)\n",
    "y_predicted = portfolio_nn.predict(X_test.values)\n",
    "y_predicted = np.around(y_predicted, 0)\n",
    "print('Test Accuracy: %.2f' % accuracy_score(y_test, y_predicted.round()))"
   ],
   "metadata": {
    "collapsed": false,
    "pycharm": {
     "name": "#%%\n"
    }
   }
  }
 ],
 "metadata": {
  "kernelspec": {
   "name": "fe690",
   "language": "python",
   "display_name": "Python 3.7(FE690)"
  },
  "language_info": {
   "codemirror_mode": {
    "name": "ipython",
    "version": 2
   },
   "file_extension": ".py",
   "mimetype": "text/x-python",
   "name": "python",
   "nbconvert_exporter": "python",
   "pygments_lexer": "ipython2",
   "version": "2.7.6"
  }
 },
 "nbformat": 4,
 "nbformat_minor": 0
}